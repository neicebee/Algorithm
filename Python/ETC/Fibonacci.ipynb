{
 "cells": [
  {
   "cell_type": "code",
   "execution_count": 12,
   "metadata": {},
   "outputs": [
    {
     "name": "stdout",
     "output_type": "stream",
     "text": [
      "3416454622906715\n"
     ]
    }
   ],
   "source": [
    "def fibo(n):\n",
    "    sqrt_5 = 5 ** (1/2)\n",
    "    result = 1 / sqrt_5 * ( ((1 + sqrt_5) / 2) ** n  - ((1 - sqrt_5) / 2) ** n )\n",
    "    return int(result)\n",
    "\n",
    "print(fibo(76))"
   ]
  }
 ],
 "metadata": {
  "kernelspec": {
   "display_name": "to_Algorithm",
   "language": "python",
   "name": "python3"
  },
  "language_info": {
   "codemirror_mode": {
    "name": "ipython",
    "version": 3
   },
   "file_extension": ".py",
   "mimetype": "text/x-python",
   "name": "python",
   "nbconvert_exporter": "python",
   "pygments_lexer": "ipython3",
   "version": "3.9.13"
  },
  "orig_nbformat": 4,
  "vscode": {
   "interpreter": {
    "hash": "02c4b412be10ba2f32a46f084a279075100e57be8e7aadc432cc89d455918f98"
   }
  }
 },
 "nbformat": 4,
 "nbformat_minor": 2
}
